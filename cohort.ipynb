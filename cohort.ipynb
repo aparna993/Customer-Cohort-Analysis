{
  "nbformat": 4,
  "nbformat_minor": 0,
  "metadata": {
    "colab": {
      "name": "cohort.ipynb",
      "provenance": [],
      "collapsed_sections": [],
      "authorship_tag": "ABX9TyMrHpCPToacijUS2tzZcSGL",
      "include_colab_link": true
    },
    "kernelspec": {
      "name": "python3",
      "display_name": "Python 3"
    }
  },
  "cells": [
    {
      "cell_type": "markdown",
      "metadata": {
        "id": "view-in-github",
        "colab_type": "text"
      },
      "source": [
        "<a href=\"https://colab.research.google.com/github/aparna993/Customer-Cohort-Analysis/blob/master/cohort.ipynb\" target=\"_parent\"><img src=\"https://colab.research.google.com/assets/colab-badge.svg\" alt=\"Open In Colab\"/></a>"
      ]
    },
    {
      "cell_type": "code",
      "metadata": {
        "id": "5k8pg9t-dLeA",
        "colab_type": "code",
        "colab": {
          "base_uri": "https://localhost:8080/",
          "height": 72
        },
        "outputId": "815e8c48-2f7b-4ee0-98c4-b4d2e18efd1b"
      },
      "source": [
        "import pandas as pd\n",
        "import numpy as np\n",
        "import matplotlib.pyplot as plt\n",
        "import warnings\n",
        "import seaborn as sns\n",
        "from operator import attrgetter\n",
        "import matplotlib.colors as mcolors"
      ],
      "execution_count": 2,
      "outputs": [
        {
          "output_type": "stream",
          "text": [
            "/usr/local/lib/python3.6/dist-packages/statsmodels/tools/_testing.py:19: FutureWarning: pandas.util.testing is deprecated. Use the functions in the public API at pandas.testing instead.\n",
            "  import pandas.util.testing as tm\n"
          ],
          "name": "stderr"
        }
      ]
    },
    {
      "cell_type": "code",
      "metadata": {
        "id": "9pgDVSiTdMQS",
        "colab_type": "code",
        "colab": {
          "base_uri": "https://localhost:8080/",
          "height": 306
        },
        "outputId": "568a1933-751d-4191-897f-a4181f3de616"
      },
      "source": [
        "df = pd.read_excel('/online_retail_II.xlsx',\n",
        "                   dtype={'CustomerID': str,\n",
        "                          'InvoiceID': str},\n",
        "                   parse_dates=['InvoiceDate'], \n",
        "                   infer_datetime_format=True)\n",
        "\n",
        "df.head()"
      ],
      "execution_count": 4,
      "outputs": [
        {
          "output_type": "execute_result",
          "data": {
            "text/html": [
              "<div>\n",
              "<style scoped>\n",
              "    .dataframe tbody tr th:only-of-type {\n",
              "        vertical-align: middle;\n",
              "    }\n",
              "\n",
              "    .dataframe tbody tr th {\n",
              "        vertical-align: top;\n",
              "    }\n",
              "\n",
              "    .dataframe thead th {\n",
              "        text-align: right;\n",
              "    }\n",
              "</style>\n",
              "<table border=\"1\" class=\"dataframe\">\n",
              "  <thead>\n",
              "    <tr style=\"text-align: right;\">\n",
              "      <th></th>\n",
              "      <th>Invoice</th>\n",
              "      <th>StockCode</th>\n",
              "      <th>Description</th>\n",
              "      <th>Quantity</th>\n",
              "      <th>InvoiceDate</th>\n",
              "      <th>Price</th>\n",
              "      <th>Customer ID</th>\n",
              "      <th>Country</th>\n",
              "    </tr>\n",
              "  </thead>\n",
              "  <tbody>\n",
              "    <tr>\n",
              "      <th>0</th>\n",
              "      <td>489434</td>\n",
              "      <td>85048</td>\n",
              "      <td>15CM CHRISTMAS GLASS BALL 20 LIGHTS</td>\n",
              "      <td>12</td>\n",
              "      <td>2009-12-01 07:45:00</td>\n",
              "      <td>6.95</td>\n",
              "      <td>13085.0</td>\n",
              "      <td>United Kingdom</td>\n",
              "    </tr>\n",
              "    <tr>\n",
              "      <th>1</th>\n",
              "      <td>489434</td>\n",
              "      <td>79323P</td>\n",
              "      <td>PINK CHERRY LIGHTS</td>\n",
              "      <td>12</td>\n",
              "      <td>2009-12-01 07:45:00</td>\n",
              "      <td>6.75</td>\n",
              "      <td>13085.0</td>\n",
              "      <td>United Kingdom</td>\n",
              "    </tr>\n",
              "    <tr>\n",
              "      <th>2</th>\n",
              "      <td>489434</td>\n",
              "      <td>79323W</td>\n",
              "      <td>WHITE CHERRY LIGHTS</td>\n",
              "      <td>12</td>\n",
              "      <td>2009-12-01 07:45:00</td>\n",
              "      <td>6.75</td>\n",
              "      <td>13085.0</td>\n",
              "      <td>United Kingdom</td>\n",
              "    </tr>\n",
              "    <tr>\n",
              "      <th>3</th>\n",
              "      <td>489434</td>\n",
              "      <td>22041</td>\n",
              "      <td>RECORD FRAME 7\" SINGLE SIZE</td>\n",
              "      <td>48</td>\n",
              "      <td>2009-12-01 07:45:00</td>\n",
              "      <td>2.10</td>\n",
              "      <td>13085.0</td>\n",
              "      <td>United Kingdom</td>\n",
              "    </tr>\n",
              "    <tr>\n",
              "      <th>4</th>\n",
              "      <td>489434</td>\n",
              "      <td>21232</td>\n",
              "      <td>STRAWBERRY CERAMIC TRINKET BOX</td>\n",
              "      <td>24</td>\n",
              "      <td>2009-12-01 07:45:00</td>\n",
              "      <td>1.25</td>\n",
              "      <td>13085.0</td>\n",
              "      <td>United Kingdom</td>\n",
              "    </tr>\n",
              "  </tbody>\n",
              "</table>\n",
              "</div>"
            ],
            "text/plain": [
              "  Invoice StockCode  ... Customer ID         Country\n",
              "0  489434     85048  ...     13085.0  United Kingdom\n",
              "1  489434    79323P  ...     13085.0  United Kingdom\n",
              "2  489434    79323W  ...     13085.0  United Kingdom\n",
              "3  489434     22041  ...     13085.0  United Kingdom\n",
              "4  489434     21232  ...     13085.0  United Kingdom\n",
              "\n",
              "[5 rows x 8 columns]"
            ]
          },
          "metadata": {
            "tags": []
          },
          "execution_count": 4
        }
      ]
    },
    {
      "cell_type": "code",
      "metadata": {
        "id": "f0IRm7_ldigH",
        "colab_type": "code",
        "colab": {
          "base_uri": "https://localhost:8080/",
          "height": 277
        },
        "outputId": "0fb3de5b-1312-4ef6-e8cd-b6c2c7a75136"
      },
      "source": [
        "df.info()"
      ],
      "execution_count": 5,
      "outputs": [
        {
          "output_type": "stream",
          "text": [
            "<class 'pandas.core.frame.DataFrame'>\n",
            "RangeIndex: 525461 entries, 0 to 525460\n",
            "Data columns (total 8 columns):\n",
            " #   Column       Non-Null Count   Dtype         \n",
            "---  ------       --------------   -----         \n",
            " 0   Invoice      525461 non-null  object        \n",
            " 1   StockCode    525461 non-null  object        \n",
            " 2   Description  522533 non-null  object        \n",
            " 3   Quantity     525461 non-null  int64         \n",
            " 4   InvoiceDate  525461 non-null  datetime64[ns]\n",
            " 5   Price        525461 non-null  float64       \n",
            " 6   Customer ID  417534 non-null  float64       \n",
            " 7   Country      525461 non-null  object        \n",
            "dtypes: datetime64[ns](1), float64(2), int64(1), object(4)\n",
            "memory usage: 32.1+ MB\n"
          ],
          "name": "stdout"
        }
      ]
    },
    {
      "cell_type": "code",
      "metadata": {
        "id": "pD28kkzee75R",
        "colab_type": "code",
        "colab": {}
      },
      "source": [
        "df.dropna(subset=['Customer ID'], inplace=True)"
      ],
      "execution_count": 6,
      "outputs": []
    },
    {
      "cell_type": "code",
      "metadata": {
        "id": "9ppMof_pfC5X",
        "colab_type": "code",
        "colab": {
          "base_uri": "https://localhost:8080/",
          "height": 294
        },
        "outputId": "6204f567-283a-4475-ddf5-c346b5afe8a9"
      },
      "source": [
        "df[[\"Quantity\",\"Price\"]].describe()"
      ],
      "execution_count": 7,
      "outputs": [
        {
          "output_type": "execute_result",
          "data": {
            "text/html": [
              "<div>\n",
              "<style scoped>\n",
              "    .dataframe tbody tr th:only-of-type {\n",
              "        vertical-align: middle;\n",
              "    }\n",
              "\n",
              "    .dataframe tbody tr th {\n",
              "        vertical-align: top;\n",
              "    }\n",
              "\n",
              "    .dataframe thead th {\n",
              "        text-align: right;\n",
              "    }\n",
              "</style>\n",
              "<table border=\"1\" class=\"dataframe\">\n",
              "  <thead>\n",
              "    <tr style=\"text-align: right;\">\n",
              "      <th></th>\n",
              "      <th>Quantity</th>\n",
              "      <th>Price</th>\n",
              "    </tr>\n",
              "  </thead>\n",
              "  <tbody>\n",
              "    <tr>\n",
              "      <th>count</th>\n",
              "      <td>417534.000000</td>\n",
              "      <td>417534.000000</td>\n",
              "    </tr>\n",
              "    <tr>\n",
              "      <th>mean</th>\n",
              "      <td>12.758815</td>\n",
              "      <td>3.887547</td>\n",
              "    </tr>\n",
              "    <tr>\n",
              "      <th>std</th>\n",
              "      <td>101.220424</td>\n",
              "      <td>71.131797</td>\n",
              "    </tr>\n",
              "    <tr>\n",
              "      <th>min</th>\n",
              "      <td>-9360.000000</td>\n",
              "      <td>0.000000</td>\n",
              "    </tr>\n",
              "    <tr>\n",
              "      <th>25%</th>\n",
              "      <td>2.000000</td>\n",
              "      <td>1.250000</td>\n",
              "    </tr>\n",
              "    <tr>\n",
              "      <th>50%</th>\n",
              "      <td>4.000000</td>\n",
              "      <td>1.950000</td>\n",
              "    </tr>\n",
              "    <tr>\n",
              "      <th>75%</th>\n",
              "      <td>12.000000</td>\n",
              "      <td>3.750000</td>\n",
              "    </tr>\n",
              "    <tr>\n",
              "      <th>max</th>\n",
              "      <td>19152.000000</td>\n",
              "      <td>25111.090000</td>\n",
              "    </tr>\n",
              "  </tbody>\n",
              "</table>\n",
              "</div>"
            ],
            "text/plain": [
              "            Quantity          Price\n",
              "count  417534.000000  417534.000000\n",
              "mean       12.758815       3.887547\n",
              "std       101.220424      71.131797\n",
              "min     -9360.000000       0.000000\n",
              "25%         2.000000       1.250000\n",
              "50%         4.000000       1.950000\n",
              "75%        12.000000       3.750000\n",
              "max     19152.000000   25111.090000"
            ]
          },
          "metadata": {
            "tags": []
          },
          "execution_count": 7
        }
      ]
    },
    {
      "cell_type": "code",
      "metadata": {
        "id": "WcFHM8tkgj7r",
        "colab_type": "code",
        "colab": {
          "base_uri": "https://localhost:8080/",
          "height": 35
        },
        "outputId": "cfe3eaa4-911e-4dbd-f391-2bea53454214"
      },
      "source": [
        "(df['Quantity'] < 0).sum()"
      ],
      "execution_count": 8,
      "outputs": [
        {
          "output_type": "execute_result",
          "data": {
            "text/plain": [
              "9839"
            ]
          },
          "metadata": {
            "tags": []
          },
          "execution_count": 8
        }
      ]
    },
    {
      "cell_type": "code",
      "metadata": {
        "id": "P1-OsIExfp0G",
        "colab_type": "code",
        "colab": {}
      },
      "source": [
        "df_new = (df[df['Quantity']<0])\n",
        "df = df.drop(df_new.index)"
      ],
      "execution_count": 9,
      "outputs": []
    },
    {
      "cell_type": "code",
      "metadata": {
        "id": "gMyPmZjjjY5o",
        "colab_type": "code",
        "colab": {
          "base_uri": "https://localhost:8080/",
          "height": 277
        },
        "outputId": "e1ddfa1e-942f-45dc-c755-c4acb950b934"
      },
      "source": [
        "df.info()"
      ],
      "execution_count": 10,
      "outputs": [
        {
          "output_type": "stream",
          "text": [
            "<class 'pandas.core.frame.DataFrame'>\n",
            "Int64Index: 407695 entries, 0 to 525460\n",
            "Data columns (total 8 columns):\n",
            " #   Column       Non-Null Count   Dtype         \n",
            "---  ------       --------------   -----         \n",
            " 0   Invoice      407695 non-null  object        \n",
            " 1   StockCode    407695 non-null  object        \n",
            " 2   Description  407695 non-null  object        \n",
            " 3   Quantity     407695 non-null  int64         \n",
            " 4   InvoiceDate  407695 non-null  datetime64[ns]\n",
            " 5   Price        407695 non-null  float64       \n",
            " 6   Customer ID  407695 non-null  float64       \n",
            " 7   Country      407695 non-null  object        \n",
            "dtypes: datetime64[ns](1), float64(2), int64(1), object(4)\n",
            "memory usage: 28.0+ MB\n"
          ],
          "name": "stdout"
        }
      ]
    },
    {
      "cell_type": "code",
      "metadata": {
        "id": "y-37WaLijyPC",
        "colab_type": "code",
        "colab": {}
      },
      "source": [
        "unique_orders_perc = df.groupby([\"Customer ID\"])[\"Invoice\"].nunique()"
      ],
      "execution_count": 11,
      "outputs": []
    },
    {
      "cell_type": "code",
      "metadata": {
        "id": "5pHAfSAll03x",
        "colab_type": "code",
        "colab": {}
      },
      "source": [
        "multi_orders_perc = np.sum(unique_orders_perc>1)/df['Customer ID'].nunique()"
      ],
      "execution_count": 12,
      "outputs": []
    },
    {
      "cell_type": "code",
      "metadata": {
        "id": "6qDwE1eCmZRr",
        "colab_type": "code",
        "colab": {
          "base_uri": "https://localhost:8080/",
          "height": 35
        },
        "outputId": "0896baff-6403-42cd-f68d-67bc099eb6a9"
      },
      "source": [
        "print(f'{100* multi_orders_perc:.2f}% of customers ordered more than once')"
      ],
      "execution_count": 13,
      "outputs": [
        {
          "output_type": "stream",
          "text": [
            "67.06% of customers ordered more than once\n"
          ],
          "name": "stdout"
        }
      ]
    },
    {
      "cell_type": "code",
      "metadata": {
        "id": "wIN6aBeJmiu6",
        "colab_type": "code",
        "colab": {
          "base_uri": "https://localhost:8080/",
          "height": 353
        },
        "outputId": "f199f2fb-6f52-4c09-ec73-4bd623367500"
      },
      "source": [
        "ax = sns.distplot(unique_orders_perc,kde = False,hist = True)\n",
        "ax.set(title = 'Distribution of number of orders per customer',\n",
        "       xlabel= 'Number of orders',\n",
        "       ylabel = 'Number of customers')"
      ],
      "execution_count": 14,
      "outputs": [
        {
          "output_type": "execute_result",
          "data": {
            "text/plain": [
              "[Text(0, 0.5, 'Number of customers'),\n",
              " Text(0.5, 0, 'Number of orders'),\n",
              " Text(0.5, 1.0, 'Distribution of number of orders per customer')]"
            ]
          },
          "metadata": {
            "tags": []
          },
          "execution_count": 14
        },
        {
          "output_type": "display_data",
          "data": {
            "image/png": "[encoded data removed]",
            "text/plain": [
              "<Figure size 432x288 with 1 Axes>"
            ]
          },
          "metadata": {
            "tags": []
          }
        }
      ]
    },
    {
      "cell_type": "markdown",
      "metadata": {
        "id": "rUhbUJvHCmSY",
        "colab_type": "text"
      },
      "source": [
        ""
      ]
    },
    {
      "cell_type": "code",
      "metadata": {
        "id": "locKoP_pnmKs",
        "colab_type": "code",
        "colab": {}
      },
      "source": [
        "df_cohort = df[['Customer ID','Invoice','InvoiceDate']].drop_duplicates()"
      ],
      "execution_count": 23,
      "outputs": []
    },
    {
      "cell_type": "code",
      "metadata": {
        "id": "7Ebvo5PSJFr9",
        "colab_type": "code",
        "colab": {}
      },
      "source": [
        "df['order_month'] = df['InvoiceDate'].dt.to_period('M')\n",
        "df['cohort'] = df.groupby('Customer ID')['InvoiceDate'] \\\n",
        "                 .transform('min') \\\n",
        "                 .dt.to_period('M') \n",
        "df_cohort = df.groupby(['cohort', 'order_month']) \\\n",
        "              .agg(n_customers=('Customer ID', 'nunique')) \\\n",
        "              .reset_index(drop=False)\n",
        "df_cohort['period_number'] = (df_cohort.order_month - df_cohort.cohort).apply(attrgetter('n'))\n",
        "cohort_pivot = df_cohort.pivot_table(index = 'cohort',\n",
        "                                     columns = 'period_number',\n",
        "                                     values = 'n_customers')\n"
      ],
      "execution_count": 27,
      "outputs": []
    },
    {
      "cell_type": "code",
      "metadata": {
        "id": "0KObFBYWJtuv",
        "colab_type": "code",
        "colab": {
          "base_uri": "https://localhost:8080/",
          "height": 394
        },
        "outputId": "8f0eec64-7208-4dfc-d450-f907183e9224"
      },
      "source": [
        "cohort_size = cohort_pivot.iloc[:,0]\n",
        "retention_matrix = cohort_pivot.divide(cohort_size, axis = 0)\n",
        "sns.set(rc={'figure.figsize':(19,10)})\n",
        "sns.heatmap(retention_matrix*100,annot = True,cmap=\"YlGnBu\",fmt = 'g')\n",
        "ax.set()"
      ],
      "execution_count": 63,
      "outputs": [
        {
          "output_type": "execute_result",
          "data": {
            "text/plain": [
              "[]"
            ]
          },
          "metadata": {
            "tags": []
          },
          "execution_count": 63
        },
        {
          "output_type": "display_data",
          "data": {
            "image/png": "[encoded data removed]",
            "text/plain": [
              "<Figure size 1368x720 with 2 Axes>"
            ]
          },
          "metadata": {
            "tags": []
          }
        }
      ]
    },
    {
      "cell_type": "code",
      "metadata": {
        "id": "VNvoQgiyLfDC",
        "colab_type": "code",
        "colab": {
          "base_uri": "https://localhost:8080/",
          "height": 498
        },
        "outputId": "2612d4e1-c408-42c5-a482-3fcf793a519a"
      },
      "source": [
        ""
      ],
      "execution_count": 47,
      "outputs": [
        {
          "output_type": "execute_result",
          "data": {
            "text/html": [
              "<div>\n",
              "<style scoped>\n",
              "    .dataframe tbody tr th:only-of-type {\n",
              "        vertical-align: middle;\n",
              "    }\n",
              "\n",
              "    .dataframe tbody tr th {\n",
              "        vertical-align: top;\n",
              "    }\n",
              "\n",
              "    .dataframe thead th {\n",
              "        text-align: right;\n",
              "    }\n",
              "</style>\n",
              "<table border=\"1\" class=\"dataframe\">\n",
              "  <thead>\n",
              "    <tr style=\"text-align: right;\">\n",
              "      <th>period_number</th>\n",
              "      <th>0</th>\n",
              "      <th>1</th>\n",
              "      <th>2</th>\n",
              "      <th>3</th>\n",
              "      <th>4</th>\n",
              "      <th>5</th>\n",
              "      <th>6</th>\n",
              "      <th>7</th>\n",
              "      <th>8</th>\n",
              "      <th>9</th>\n",
              "      <th>10</th>\n",
              "      <th>11</th>\n",
              "      <th>12</th>\n",
              "    </tr>\n",
              "    <tr>\n",
              "      <th>cohort</th>\n",
              "      <th></th>\n",
              "      <th></th>\n",
              "      <th></th>\n",
              "      <th></th>\n",
              "      <th></th>\n",
              "      <th></th>\n",
              "      <th></th>\n",
              "      <th></th>\n",
              "      <th></th>\n",
              "      <th></th>\n",
              "      <th></th>\n",
              "      <th></th>\n",
              "      <th></th>\n",
              "    </tr>\n",
              "  </thead>\n",
              "  <tbody>\n",
              "    <tr>\n",
              "      <th>2009-12</th>\n",
              "      <td>100.0</td>\n",
              "      <td>35.287958</td>\n",
              "      <td>33.403141</td>\n",
              "      <td>42.513089</td>\n",
              "      <td>38.010471</td>\n",
              "      <td>35.916230</td>\n",
              "      <td>37.696335</td>\n",
              "      <td>34.240838</td>\n",
              "      <td>33.612565</td>\n",
              "      <td>36.230366</td>\n",
              "      <td>42.198953</td>\n",
              "      <td>49.528796</td>\n",
              "      <td>24.816754</td>\n",
              "    </tr>\n",
              "    <tr>\n",
              "      <th>2010-01</th>\n",
              "      <td>100.0</td>\n",
              "      <td>20.626632</td>\n",
              "      <td>31.070496</td>\n",
              "      <td>30.548303</td>\n",
              "      <td>26.370757</td>\n",
              "      <td>30.026110</td>\n",
              "      <td>25.848564</td>\n",
              "      <td>22.976501</td>\n",
              "      <td>27.937337</td>\n",
              "      <td>31.853786</td>\n",
              "      <td>30.287206</td>\n",
              "      <td>9.921671</td>\n",
              "      <td>NaN</td>\n",
              "    </tr>\n",
              "    <tr>\n",
              "      <th>2010-02</th>\n",
              "      <td>100.0</td>\n",
              "      <td>23.670213</td>\n",
              "      <td>22.340426</td>\n",
              "      <td>28.989362</td>\n",
              "      <td>24.468085</td>\n",
              "      <td>19.946809</td>\n",
              "      <td>19.148936</td>\n",
              "      <td>28.457447</td>\n",
              "      <td>25.265957</td>\n",
              "      <td>27.393617</td>\n",
              "      <td>7.180851</td>\n",
              "      <td>NaN</td>\n",
              "      <td>NaN</td>\n",
              "    </tr>\n",
              "    <tr>\n",
              "      <th>2010-03</th>\n",
              "      <td>100.0</td>\n",
              "      <td>18.961625</td>\n",
              "      <td>23.024831</td>\n",
              "      <td>24.153499</td>\n",
              "      <td>23.250564</td>\n",
              "      <td>20.316027</td>\n",
              "      <td>24.604966</td>\n",
              "      <td>30.248307</td>\n",
              "      <td>27.539503</td>\n",
              "      <td>7.900677</td>\n",
              "      <td>NaN</td>\n",
              "      <td>NaN</td>\n",
              "      <td>NaN</td>\n",
              "    </tr>\n",
              "    <tr>\n",
              "      <th>2010-04</th>\n",
              "      <td>100.0</td>\n",
              "      <td>19.387755</td>\n",
              "      <td>19.387755</td>\n",
              "      <td>16.326531</td>\n",
              "      <td>18.367347</td>\n",
              "      <td>22.448980</td>\n",
              "      <td>27.551020</td>\n",
              "      <td>26.190476</td>\n",
              "      <td>6.802721</td>\n",
              "      <td>NaN</td>\n",
              "      <td>NaN</td>\n",
              "      <td>NaN</td>\n",
              "      <td>NaN</td>\n",
              "    </tr>\n",
              "    <tr>\n",
              "      <th>2010-05</th>\n",
              "      <td>100.0</td>\n",
              "      <td>15.748031</td>\n",
              "      <td>16.929134</td>\n",
              "      <td>17.322835</td>\n",
              "      <td>17.716535</td>\n",
              "      <td>25.590551</td>\n",
              "      <td>21.259843</td>\n",
              "      <td>7.874016</td>\n",
              "      <td>NaN</td>\n",
              "      <td>NaN</td>\n",
              "      <td>NaN</td>\n",
              "      <td>NaN</td>\n",
              "      <td>NaN</td>\n",
              "    </tr>\n",
              "    <tr>\n",
              "      <th>2010-06</th>\n",
              "      <td>100.0</td>\n",
              "      <td>17.407407</td>\n",
              "      <td>18.888889</td>\n",
              "      <td>20.370370</td>\n",
              "      <td>22.962963</td>\n",
              "      <td>28.518519</td>\n",
              "      <td>6.666667</td>\n",
              "      <td>NaN</td>\n",
              "      <td>NaN</td>\n",
              "      <td>NaN</td>\n",
              "      <td>NaN</td>\n",
              "      <td>NaN</td>\n",
              "      <td>NaN</td>\n",
              "    </tr>\n",
              "    <tr>\n",
              "      <th>2010-07</th>\n",
              "      <td>100.0</td>\n",
              "      <td>15.591398</td>\n",
              "      <td>18.279570</td>\n",
              "      <td>29.569892</td>\n",
              "      <td>29.032258</td>\n",
              "      <td>10.215054</td>\n",
              "      <td>NaN</td>\n",
              "      <td>NaN</td>\n",
              "      <td>NaN</td>\n",
              "      <td>NaN</td>\n",
              "      <td>NaN</td>\n",
              "      <td>NaN</td>\n",
              "      <td>NaN</td>\n",
              "    </tr>\n",
              "    <tr>\n",
              "      <th>2010-08</th>\n",
              "      <td>100.0</td>\n",
              "      <td>20.370370</td>\n",
              "      <td>29.629630</td>\n",
              "      <td>32.098765</td>\n",
              "      <td>11.728395</td>\n",
              "      <td>NaN</td>\n",
              "      <td>NaN</td>\n",
              "      <td>NaN</td>\n",
              "      <td>NaN</td>\n",
              "      <td>NaN</td>\n",
              "      <td>NaN</td>\n",
              "      <td>NaN</td>\n",
              "      <td>NaN</td>\n",
              "    </tr>\n",
              "    <tr>\n",
              "      <th>2010-09</th>\n",
              "      <td>100.0</td>\n",
              "      <td>22.633745</td>\n",
              "      <td>23.456790</td>\n",
              "      <td>9.876543</td>\n",
              "      <td>NaN</td>\n",
              "      <td>NaN</td>\n",
              "      <td>NaN</td>\n",
              "      <td>NaN</td>\n",
              "      <td>NaN</td>\n",
              "      <td>NaN</td>\n",
              "      <td>NaN</td>\n",
              "      <td>NaN</td>\n",
              "      <td>NaN</td>\n",
              "    </tr>\n",
              "    <tr>\n",
              "      <th>2010-10</th>\n",
              "      <td>100.0</td>\n",
              "      <td>25.729443</td>\n",
              "      <td>9.283820</td>\n",
              "      <td>NaN</td>\n",
              "      <td>NaN</td>\n",
              "      <td>NaN</td>\n",
              "      <td>NaN</td>\n",
              "      <td>NaN</td>\n",
              "      <td>NaN</td>\n",
              "      <td>NaN</td>\n",
              "      <td>NaN</td>\n",
              "      <td>NaN</td>\n",
              "      <td>NaN</td>\n",
              "    </tr>\n",
              "    <tr>\n",
              "      <th>2010-11</th>\n",
              "      <td>100.0</td>\n",
              "      <td>10.769231</td>\n",
              "      <td>NaN</td>\n",
              "      <td>NaN</td>\n",
              "      <td>NaN</td>\n",
              "      <td>NaN</td>\n",
              "      <td>NaN</td>\n",
              "      <td>NaN</td>\n",
              "      <td>NaN</td>\n",
              "      <td>NaN</td>\n",
              "      <td>NaN</td>\n",
              "      <td>NaN</td>\n",
              "      <td>NaN</td>\n",
              "    </tr>\n",
              "    <tr>\n",
              "      <th>2010-12</th>\n",
              "      <td>100.0</td>\n",
              "      <td>NaN</td>\n",
              "      <td>NaN</td>\n",
              "      <td>NaN</td>\n",
              "      <td>NaN</td>\n",
              "      <td>NaN</td>\n",
              "      <td>NaN</td>\n",
              "      <td>NaN</td>\n",
              "      <td>NaN</td>\n",
              "      <td>NaN</td>\n",
              "      <td>NaN</td>\n",
              "      <td>NaN</td>\n",
              "      <td>NaN</td>\n",
              "    </tr>\n",
              "  </tbody>\n",
              "</table>\n",
              "</div>"
            ],
            "text/plain": [
              "period_number     0          1          2   ...         10         11         12\n",
              "cohort                                      ...                                 \n",
              "2009-12        100.0  35.287958  33.403141  ...  42.198953  49.528796  24.816754\n",
              "2010-01        100.0  20.626632  31.070496  ...  30.287206   9.921671        NaN\n",
              "2010-02        100.0  23.670213  22.340426  ...   7.180851        NaN        NaN\n",
              "2010-03        100.0  18.961625  23.024831  ...        NaN        NaN        NaN\n",
              "2010-04        100.0  19.387755  19.387755  ...        NaN        NaN        NaN\n",
              "2010-05        100.0  15.748031  16.929134  ...        NaN        NaN        NaN\n",
              "2010-06        100.0  17.407407  18.888889  ...        NaN        NaN        NaN\n",
              "2010-07        100.0  15.591398  18.279570  ...        NaN        NaN        NaN\n",
              "2010-08        100.0  20.370370  29.629630  ...        NaN        NaN        NaN\n",
              "2010-09        100.0  22.633745  23.456790  ...        NaN        NaN        NaN\n",
              "2010-10        100.0  25.729443   9.283820  ...        NaN        NaN        NaN\n",
              "2010-11        100.0  10.769231        NaN  ...        NaN        NaN        NaN\n",
              "2010-12        100.0        NaN        NaN  ...        NaN        NaN        NaN\n",
              "\n",
              "[13 rows x 13 columns]"
            ]
          },
          "metadata": {
            "tags": []
          },
          "execution_count": 47
        }
      ]
    },
    {
      "cell_type": "code",
      "metadata": {
        "id": "QddcflnQJ7iw",
        "colab_type": "code",
        "colab": {}
      },
      "source": [
        ""
      ],
      "execution_count": null,
      "outputs": []
    }
  ]
}